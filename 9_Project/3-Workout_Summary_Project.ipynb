{
 "cells": [
  {
   "cell_type": "markdown",
   "metadata": {},
   "source": [
    "## Workout Summary Project\n",
    "\n",
    "Let's say you have a text file called `workout-history.csv` that contains information about your workouts for the month of March:\n",
    "\n",
    "```\n",
    "# date\t kind of workout\t distance (miles)\t time (min)\n",
    "2018, Mar-01\tcycling\t2\t25\n",
    "2018, Mar-02\trunning\t10\t55\n",
    "2018, Mar-03\tswimming\t5\t20\n",
    "2018, Mar-04\tswimming\t3\t42\n",
    "...\n",
    "```\n",
    "\n",
    "\n",
    "It's a common-separated value (CSV) file, but contains comments and blank lines. The first line (a comment) describes the fields in this file, which are (from left to right) the date of your workout, the kind of workout, how many miles you traveled, and how many minutes you spent.\n",
    "\n",
    "Your goal will be to read this data into Python and plot a graph with the day of the month on the x-axis and the time worked out on the y-axis."
   ]
  }
 ],
 "metadata": {
  "kernelspec": {
   "display_name": "Python 3",
   "language": "python",
   "name": "python3"
  },
  "language_info": {
   "codemirror_mode": {
    "name": "ipython",
    "version": 3
   },
   "file_extension": ".py",
   "mimetype": "text/x-python",
   "name": "python",
   "nbconvert_exporter": "python",
   "pygments_lexer": "ipython3",
   "version": "3.6.5"
  }
 },
 "nbformat": 4,
 "nbformat_minor": 2
}
