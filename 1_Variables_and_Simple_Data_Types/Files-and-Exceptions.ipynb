{
 "cells": [
  {
   "cell_type": "markdown",
   "metadata": {},
   "source": [
    "## Files and Exceptions"
   ]
  },
  {
   "cell_type": "code",
   "execution_count": 14,
   "metadata": {},
   "outputs": [],
   "source": [
    "# To make sure Jupyter is in the right directory: \n",
    "\n",
    "# 1- Get the current working directory with os.getcwd()\n",
    "import os\n",
    "cwd = os.getcwd()\n",
    "print (cwd)\n",
    "\n",
    "# 2- If the previous output is not the current working directory, \n",
    "# You can use the jupyter magic command %cd to change it\n",
    "%cd \"C:/Users/vv16417n/Desktop/Python-Workshop/8_Files_and_Exceptions\""
   ]
  },
  {
   "cell_type": "markdown",
   "metadata": {},
   "source": [
    "### Reading an Entire File\n",
    "\n",
    "The `open()` look for the `parameter` file and returns a representation of that file as an object.\n",
    "\n",
    "Python stores this object in `file_object`.\n",
    "\n",
    "The keyword `with` closes the file once access to it is no longer needed. \n",
    "\n",
    "`with` will prevent bugs in your program that might keep that file always open.\n",
    "\n",
    "`read()` will read the entire contents of the file and store it as one long string\n"
   ]
  },
  {
   "cell_type": "code",
   "execution_count": 25,
   "metadata": {},
   "outputs": [
    {
     "name": "stdout",
     "output_type": "stream",
     "text": [
      "line: 3.1415926535\n",
      "line:   8979323846\n",
      "line:   2643383279\n"
     ]
    }
   ],
   "source": [
    "filename = 'pi_digits.txt'\n",
    "\n",
    "with open(filename) as file_object:\n",
    "    lines = file_object.readlines()\n",
    "\n",
    "for line in lines:\n",
    "    print(\"line: \" + line.rstrip())\n"
   ]
  }
 ],
 "metadata": {
  "kernelspec": {
   "display_name": "Python 3",
   "language": "python",
   "name": "python3"
  },
  "language_info": {
   "codemirror_mode": {
    "name": "ipython",
    "version": 3
   },
   "file_extension": ".py",
   "mimetype": "text/x-python",
   "name": "python",
   "nbconvert_exporter": "python",
   "pygments_lexer": "ipython3",
   "version": "3.6.3"
  }
 },
 "nbformat": 4,
 "nbformat_minor": 2
}
