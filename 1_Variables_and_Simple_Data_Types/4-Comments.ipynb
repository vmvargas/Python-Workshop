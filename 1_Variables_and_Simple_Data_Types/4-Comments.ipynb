{
 "cells": [
  {
   "cell_type": "markdown",
   "metadata": {},
   "source": [
    "## Comments\n"
   ]
  },
  {
   "cell_type": "markdown",
   "metadata": {},
   "source": [
    "### Inline Comments\n",
    "Use inline comments sparingly.\n",
    "\n",
    "An inline comment is a comment on the same line as a statement. Inline comments should be separated by at least two spaces from the statement. They should start with a # and a single space."
   ]
  },
  {
   "cell_type": "code",
   "execution_count": 9,
   "metadata": {},
   "outputs": [],
   "source": [
    "# Increment x (useless comment)\n",
    "x = 0\n",
    "\n",
    "\n",
    "x = x + 1    # Increment x (useless comment)"
   ]
  },
  {
   "cell_type": "markdown",
   "metadata": {},
   "source": [
    "### Documentation Strings\n",
    "Use inline comments sparingly.\n",
    "\n",
    "An inline comment is a comment on the same line as a statement. Inline comments should be separated by at least two spaces from the statement. They should start with a # and a single space."
   ]
  },
  {
   "cell_type": "code",
   "execution_count": 1,
   "metadata": {},
   "outputs": [
    {
     "name": "stdout",
     "output_type": "stream",
     "text": [
      "Using __doc__:\n",
      "\n",
      "    Summary line.\n",
      " \n",
      "    Extended description of function.\n",
      " \n",
      "    Parameters:\n",
      "    arg1 (int): Description of arg1\n",
      " \n",
      "    Returns:\n",
      "    int: Description of return value\n",
      " \n",
      "    \n",
      "Using help:\n",
      "Help on function my_function in module __main__:\n",
      "\n",
      "my_function(arg1)\n",
      "    Summary line.\n",
      "    \n",
      "    Extended description of function.\n",
      "    \n",
      "    Parameters:\n",
      "    arg1 (int): Description of arg1\n",
      "    \n",
      "    Returns:\n",
      "    int: Description of return value\n",
      "\n"
     ]
    }
   ],
   "source": [
    "def my_function(arg1):\n",
    "    \"\"\"\n",
    "    Summary line.\n",
    " \n",
    "    Extended description of function.\n",
    " \n",
    "    Parameters:\n",
    "    arg1 (int): Description of arg1\n",
    " \n",
    "    Returns:\n",
    "    int: Description of return value\n",
    " \n",
    "    \"\"\"\n",
    " \n",
    "    return arg1\n",
    " \n",
    "print (\"Using __doc__:\")\n",
    "print (my_function.__doc__)\n",
    " \n",
    "print (\"Using help:\")\n",
    "help(my_function)"
   ]
  },
  {
   "cell_type": "code",
   "execution_count": 4,
   "metadata": {},
   "outputs": [
    {
     "data": {
      "text/html": [
       "<a href=\"https://www.python.org/dev/peps/pep-0008/#comments\"> See Python's style guide PEP8 for more information about comments </a>"
      ],
      "text/plain": [
       "<IPython.core.display.HTML object>"
      ]
     },
     "metadata": {},
     "output_type": "display_data"
    }
   ],
   "source": [
    "%%HTML \n",
    "<a href=\"https://www.python.org/dev/peps/pep-0008/#comments\"> See Python's style guide PEP8 for more information about comments </a>"
   ]
  },
  {
   "cell_type": "markdown",
   "metadata": {},
   "source": [
    "## The Zen of Python \n",
    "\n",
    "Is a collection of 20 software principles that influences the design of Python.\n",
    "\n",
    "An easter egg in the Python interpreter."
   ]
  },
  {
   "cell_type": "code",
   "execution_count": 2,
   "metadata": {},
   "outputs": [
    {
     "name": "stdout",
     "output_type": "stream",
     "text": [
      "The Zen of Python, by Tim Peters\n",
      "\n",
      "Beautiful is better than ugly.\n",
      "Explicit is better than implicit.\n",
      "Simple is better than complex.\n",
      "Complex is better than complicated.\n",
      "Flat is better than nested.\n",
      "Sparse is better than dense.\n",
      "Readability counts.\n",
      "Special cases aren't special enough to break the rules.\n",
      "Although practicality beats purity.\n",
      "Errors should never pass silently.\n",
      "Unless explicitly silenced.\n",
      "In the face of ambiguity, refuse the temptation to guess.\n",
      "There should be one-- and preferably only one --obvious way to do it.\n",
      "Although that way may not be obvious at first unless you're Dutch.\n",
      "Now is better than never.\n",
      "Although never is often better than *right* now.\n",
      "If the implementation is hard to explain, it's a bad idea.\n",
      "If the implementation is easy to explain, it may be a good idea.\n",
      "Namespaces are one honking great idea -- let's do more of those!\n"
     ]
    }
   ],
   "source": [
    "import this"
   ]
  }
 ],
 "metadata": {
  "kernelspec": {
   "display_name": "Python 3",
   "language": "python",
   "name": "python3"
  },
  "language_info": {
   "codemirror_mode": {
    "name": "ipython",
    "version": 3
   },
   "file_extension": ".py",
   "mimetype": "text/x-python",
   "name": "python",
   "nbconvert_exporter": "python",
   "pygments_lexer": "ipython3",
   "version": "3.6.5"
  }
 },
 "nbformat": 4,
 "nbformat_minor": 2
}
