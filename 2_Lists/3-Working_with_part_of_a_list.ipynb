{
 "cells": [
  {
   "cell_type": "markdown",
   "metadata": {},
   "source": [
    "## Working with Part of a List\n",
    "\n",
    "You can  work with a specific group of items in a list, which Python calls a *slice* and it's represented with a colon `:`\n",
    "\n",
    "### Slicing a List\n",
    "\n",
    "To output the first three elements in a list, you would request indices 0 through 3, which would return elements 0, 1, and 2 (similar to range())"
   ]
  },
  {
   "cell_type": "code",
   "execution_count": 1,
   "metadata": {},
   "outputs": [
    {
     "name": "stdout",
     "output_type": "stream",
     "text": [
      "['charles', 'martina', 'michael']\n"
     ]
    }
   ],
   "source": [
    "players = ['charles', 'martina', 'michael', 'florence', 'eli']\n",
    "print(players[0:3])"
   ]
  },
  {
   "cell_type": "markdown",
   "metadata": {},
   "source": [
    "If you omit the first index in a slice, Python automatically starts your slice at the beginning of the list:"
   ]
  },
  {
   "cell_type": "code",
   "execution_count": 2,
   "metadata": {},
   "outputs": [
    {
     "name": "stdout",
     "output_type": "stream",
     "text": [
      "['charles', 'martina', 'michael']\n"
     ]
    }
   ],
   "source": [
    "print(players[:3])"
   ]
  },
  {
   "cell_type": "markdown",
   "metadata": {},
   "source": [
    "If you want all items from the third item through the last item, you can start with index 2 and omit the second index:"
   ]
  },
  {
   "cell_type": "code",
   "execution_count": 3,
   "metadata": {},
   "outputs": [
    {
     "name": "stdout",
     "output_type": "stream",
     "text": [
      "['michael', 'florence', 'eli']\n"
     ]
    }
   ],
   "source": [
    "print(players[2:])"
   ]
  },
  {
   "cell_type": "markdown",
   "metadata": {},
   "source": [
    "This prints the names of the last three players and would continue to work as the list of players changes in size."
   ]
  },
  {
   "cell_type": "code",
   "execution_count": 4,
   "metadata": {},
   "outputs": [
    {
     "name": "stdout",
     "output_type": "stream",
     "text": [
      "['michael', 'florence', 'eli']\n"
     ]
    }
   ],
   "source": [
    "print(players[-3:])"
   ]
  },
  {
   "cell_type": "markdown",
   "metadata": {},
   "source": [
    "### Using the stride\n",
    "\n",
    "List slicing allows us to access elements of a list in a concise manner. The syntax looks like this:\n",
    "\n",
    "my_list[start:end:stride]\n",
    "\n",
    "`start` describes where the slice starts (inclusive), \n",
    "\n",
    "`end` is where it ends (exclusive), and\n",
    "\n",
    "`stride` describes the space between items in the sliced list"
   ]
  },
  {
   "cell_type": "code",
   "execution_count": 10,
   "metadata": {},
   "outputs": [
    {
     "name": "stdout",
     "output_type": "stream",
     "text": [
      "[25, 36, 49, 64, 81, 100, 121, 144, 169, 196]\n",
      "[49, 81, 121, 169]\n"
     ]
    }
   ],
   "source": [
    "power_two = [i ** 2 for i in range(5, 15)]\n",
    "print (power_two)\n",
    "print(power_two[2:9])"
   ]
  },
  {
   "cell_type": "markdown",
   "metadata": {},
   "source": [
    "### Reversing a List with the stride\n",
    "\n",
    "We have seen that a positive stride progresses through the list from left to right.\n",
    "\n",
    "On the contrary, a negative stride progresses through the list from right to left."
   ]
  },
  {
   "cell_type": "code",
   "execution_count": null,
   "metadata": {},
   "outputs": [],
   "source": [
    "letters = ['A', 'B', 'C', 'D', 'E']\n",
    "\n",
    "print (letters[::-1])\n",
    "print (letters[::-2])\n",
    "print (letters[::-3])"
   ]
  },
  {
   "cell_type": "markdown",
   "metadata": {},
   "source": [
    "### Copying a List\n",
    "\n",
    "You can make a slice that includes the entire original list by omitting the first index and the second index ([:])."
   ]
  },
  {
   "cell_type": "code",
   "execution_count": 13,
   "metadata": {},
   "outputs": [
    {
     "name": "stdout",
     "output_type": "stream",
     "text": [
      "my_foods: ['pizza', 'falafel', 'carrot cake']\n",
      "friend_foods: ['pizza', 'falafel', 'carrot cake', 'ice cream']\n",
      "my_foods: ['pizza', 'falafel', 'carrot cake']\n",
      "2064607010696\n"
     ]
    },
    {
     "data": {
      "text/plain": [
       "2064607096904"
      ]
     },
     "execution_count": 13,
     "metadata": {},
     "output_type": "execute_result"
    }
   ],
   "source": [
    "my_foods = ['pizza', 'falafel', 'carrot cake']\n",
    "friend_foods = my_foods[:]\n",
    "print(\"my_foods:\", my_foods)\n",
    "\n",
    "friend_foods.append('ice cream')\n",
    "print(\"friend_foods:\" , friend_foods)\n",
    "print(\"my_foods:\", my_foods)\n",
    "\n",
    "print(id(my_foods))\n",
    "id(friend_foods) "
   ]
  },
  {
   "cell_type": "markdown",
   "metadata": {},
   "source": [
    "Basically, if you’re trying to work with a copy of a list and you see unexpected behavior, make sure you are copying the list using a slice"
   ]
  },
  {
   "cell_type": "markdown",
   "metadata": {},
   "source": [
    "### Deleting Elements\n",
    "\n",
    "The \"del\" operator does deletions.\n",
    "\n",
    "In the simplest case, it can remove the definition of a variable, as if that variable had not been defined. \n",
    "\n",
    "`Del` can also be used on list elements or slices to delete that part of the list and to delete entries from a dictionary."
   ]
  },
  {
   "cell_type": "code",
   "execution_count": null,
   "metadata": {},
   "outputs": [],
   "source": [
    "var = 6\n",
    "del var \n",
    "print (var)"
   ]
  },
  {
   "cell_type": "code",
   "execution_count": null,
   "metadata": {},
   "outputs": [],
   "source": [
    "list = ['a', 'b', 'c', 'd']\n",
    "\n",
    "del list[0] \n",
    "print (list)\n",
    "\n",
    "del list[-2:]\n",
    "print (list)"
   ]
  },
  {
   "cell_type": "markdown",
   "metadata": {},
   "source": [
    "## Try it yourself\n",
    "\n",
    "Add several lines to the end of the script to do the following:\n",
    "\n",
    "- Print the message, \"The first three items in the list are:\". Then use a slice to print the first three items from that program’s list.\n",
    "- Print the message, \"Three items from the middle of the list are:\". Use a slice to print three items from the middle of the list.\n",
    "- Print the message, \"The last three items in the list are:\". Use a slice to print the last three items in the list."
   ]
  },
  {
   "cell_type": "code",
   "execution_count": null,
   "metadata": {},
   "outputs": [],
   "source": [
    "my_foods = ['pizza', 'falafel', 'carrot cake', 'cannoli', 'ice cream']\n",
    "# +++your code here+++\n"
   ]
  }
 ],
 "metadata": {
  "kernelspec": {
   "display_name": "Python 3",
   "language": "python",
   "name": "python3"
  },
  "language_info": {
   "codemirror_mode": {
    "name": "ipython",
    "version": 3
   },
   "file_extension": ".py",
   "mimetype": "text/x-python",
   "name": "python",
   "nbconvert_exporter": "python",
   "pygments_lexer": "ipython3",
   "version": "3.6.5"
  }
 },
 "nbformat": 4,
 "nbformat_minor": 2
}
