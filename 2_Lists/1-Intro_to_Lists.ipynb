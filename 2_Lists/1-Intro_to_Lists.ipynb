{
 "cells": [
  {
   "cell_type": "markdown",
   "metadata": {},
   "source": [
    "# Lists\n",
    "\n",
    "Lists allow you to store sets of information in one place, whether you have just a few items or millions of items. \n",
    "\n",
    "Lists are one of Python’s most powerful features readily accessible to new programmers, and they tie together many important concepts in programming\n",
    "\n",
    "## What Is a List?\n",
    "\n",
    "A list is a collection of items in a particular order.\n",
    "\n",
    "Because a list usually contains more than one element, it’s a good idea to make the name of your list **plural**, such as letters, digits, or names."
   ]
  },
  {
   "cell_type": "code",
   "execution_count": null,
   "metadata": {},
   "outputs": [],
   "source": [
    "motorcycles = []    # creates an empty list\n",
    "motorcycles = ['honda', 'yamaha', 'suzuki']\n",
    "print(motorcycles)"
   ]
  },
  {
   "cell_type": "markdown",
   "metadata": {},
   "source": [
    "### Accessing Elements in a List\n",
    "\n",
    "You can access any element in a list by telling Python the position, or index, of the item desired\n",
    "\n",
    "#### Index Positions Start at 0, Not 1"
   ]
  },
  {
   "cell_type": "code",
   "execution_count": null,
   "metadata": {},
   "outputs": [],
   "source": [
    "print(motorcycles[1].title())"
   ]
  },
  {
   "cell_type": "markdown",
   "metadata": {},
   "source": [
    "### Changing, Adding, and Removing Elements\n"
   ]
  },
  {
   "cell_type": "code",
   "execution_count": 2,
   "metadata": {},
   "outputs": [
    {
     "name": "stdout",
     "output_type": "stream",
     "text": [
      "['ducati', 'yamaha', 'suzuki']\n"
     ]
    }
   ],
   "source": [
    "motorcycles[0] = 'ducati'\n",
    "print(motorcycles)"
   ]
  },
  {
   "cell_type": "markdown",
   "metadata": {},
   "source": [
    "####  Appending Elements to the End of a List "
   ]
  },
  {
   "cell_type": "code",
   "execution_count": 3,
   "metadata": {},
   "outputs": [
    {
     "name": "stdout",
     "output_type": "stream",
     "text": [
      "['ducati', 'yamaha', 'suzuki', 'honda']\n"
     ]
    }
   ],
   "source": [
    "motorcycles.append('honda')\n",
    "print(motorcycles)"
   ]
  },
  {
   "cell_type": "markdown",
   "metadata": {},
   "source": [
    "#### Inserting Elements into a List"
   ]
  },
  {
   "cell_type": "code",
   "execution_count": 4,
   "metadata": {},
   "outputs": [
    {
     "name": "stdout",
     "output_type": "stream",
     "text": [
      "['kawasaki', 'ducati', 'yamaha', 'suzuki', 'honda']\n"
     ]
    }
   ],
   "source": [
    "motorcycles.insert(0, 'kawasaki')\n",
    "print(motorcycles)"
   ]
  },
  {
   "cell_type": "markdown",
   "metadata": {},
   "source": [
    "####  Removing an Item Using the del Statement"
   ]
  },
  {
   "cell_type": "code",
   "execution_count": 5,
   "metadata": {},
   "outputs": [
    {
     "name": "stdout",
     "output_type": "stream",
     "text": [
      "['ducati', 'yamaha', 'suzuki', 'honda']\n"
     ]
    }
   ],
   "source": [
    "del motorcycles[0]\n",
    "print(motorcycles)"
   ]
  },
  {
   "cell_type": "markdown",
   "metadata": {},
   "source": [
    "#### Removing an Item Using the pop() Method"
   ]
  },
  {
   "cell_type": "code",
   "execution_count": 6,
   "metadata": {},
   "outputs": [
    {
     "name": "stdout",
     "output_type": "stream",
     "text": [
      "['ducati', 'suzuki', 'honda']\n",
      "yamaha\n"
     ]
    }
   ],
   "source": [
    "popped_motorcycle = motorcycles.pop(1)\n",
    "print(motorcycles)\n",
    "print(popped_motorcycle)"
   ]
  },
  {
   "cell_type": "markdown",
   "metadata": {},
   "source": [
    "#### Removing an Item by Value\n",
    "\n",
    "The `remove()` method deletes only the first occurrence of the value you specify. If there’s a possibility the value appears more than once in the list, you’ll need to use a loop to determine if all occurrences of the value have been removed."
   ]
  },
  {
   "cell_type": "code",
   "execution_count": null,
   "metadata": {},
   "outputs": [],
   "source": [
    "motorcycles.remove('ducati')\n",
    "print(motorcycles)"
   ]
  },
  {
   "cell_type": "code",
   "execution_count": null,
   "metadata": {},
   "outputs": [],
   "source": [
    "motorcycles = ['honda', 'yamaha','ducati', 'suzuki', 'ducati']\n",
    "too_expensive = ['ducati','honda']\n",
    "motorcycles.remove(too_expensive)\n",
    "print(motorcycles)"
   ]
  },
  {
   "cell_type": "markdown",
   "metadata": {},
   "source": [
    "## Try It Yourself\n",
    "\n",
    "**1. Guest List**\n",
    "    \n",
    "If you could invite anyone, living or deceased, to dinner, who would you invite? \n",
    "\n",
    "Make a list that includes at least three people you’d like to invite to dinner. Then use your list to print a message to each person, inviting them to dinner."
   ]
  },
  {
   "cell_type": "code",
   "execution_count": null,
   "metadata": {},
   "outputs": [],
   "source": []
  },
  {
   "cell_type": "markdown",
   "metadata": {},
   "source": [
    "**2. More Guests**\n",
    "\n",
    "You just found a bigger dinner table, so now more space is available. Think of three more guests to invite to dinner.\n",
    "\n",
    "- Add a print statement to the end of your program informing people that you found a\n",
    "bigger dinner table.\n",
    "- Use insert() to add one new guest to the middle of your list.\n",
    "- Use append() to add one new guest to the end of your list.\n",
    "- Print a new set of invitation messages, one for each person in your list.\n",
    "\n",
    "**3. Shrinking Guest List**\n",
    "You just found out that your new dinner table won’t arrive in time for the dinner, and you have space for only two guests.\n",
    "\n",
    "- Add a new line that prints a message saying that you can invite only two people for dinner."
   ]
  },
  {
   "cell_type": "markdown",
   "metadata": {},
   "source": [
    "## Organizing a List\n",
    "\n",
    "Often, your lists will be created in an unpredictable order, because you can’t always control the order in which your users provide their data.\n",
    "\n",
    "Python provides a number of different ways to organize your lists, depending on the situation.\n",
    "\n",
    "#### Sorting a List Permanently with the sort() Method\n",
    "\n",
    "`sort()` changes the order of the list permanently. \n",
    "\n",
    "The cars are now in alphabetical order, and we can never revert to the original order"
   ]
  },
  {
   "cell_type": "code",
   "execution_count": 9,
   "metadata": {},
   "outputs": [
    {
     "name": "stdout",
     "output_type": "stream",
     "text": [
      "['Toyota', 'audi', 'bmw', 'subaru']\n",
      "['subaru', 'bmw', 'audi', 'Toyota']\n"
     ]
    }
   ],
   "source": [
    "cars = ['bmw', 'audi', 'Toyota', 'subaru']\n",
    "cars.sort()\n",
    "print(cars)\n",
    "\n",
    "cars.sort(reverse=True)\n",
    "print(cars)"
   ]
  },
  {
   "cell_type": "markdown",
   "metadata": {},
   "source": [
    "#### Sorting a List Temporarily with sorted()\n",
    "\n",
    "`sorted()` lets you display your list in a particular order but doesn’t affect the actual order of the list"
   ]
  },
  {
   "cell_type": "code",
   "execution_count": 10,
   "metadata": {},
   "outputs": [
    {
     "name": "stdout",
     "output_type": "stream",
     "text": [
      "['Toyota', 'audi', 'bmw', 'subaru']\n",
      "['subaru', 'bmw', 'audi', 'Toyota']\n"
     ]
    }
   ],
   "source": [
    "print(sorted(cars))\n",
    "print(cars)"
   ]
  },
  {
   "cell_type": "markdown",
   "metadata": {},
   "source": [
    "#### Printing a List in Reverse Order \n",
    "\n",
    "`reverse()` doesn’t sort backward alphabetically; it simply reverses the order of the list"
   ]
  },
  {
   "cell_type": "code",
   "execution_count": 11,
   "metadata": {},
   "outputs": [
    {
     "name": "stdout",
     "output_type": "stream",
     "text": [
      "['subaru', 'Toyota', 'audi', 'bmw']\n",
      "['subaru', 'bmw', 'audi', 'Toyota']\n"
     ]
    }
   ],
   "source": [
    "cars = ['bmw', 'audi', 'Toyota', 'subaru']\n",
    "cars.reverse()\n",
    "print(cars)\n",
    "\n",
    "cars = ['bmw', 'audi', 'Toyota', 'subaru']\n",
    "cars.sort(reverse=True)\n",
    "print(cars)"
   ]
  },
  {
   "cell_type": "markdown",
   "metadata": {},
   "source": [
    "#### Finding the Length of a List\n",
    "\n",
    "Python counts the items in a list starting with one, so you shouldn’t run into any offby-\n",
    "one errors when determining the length of a list"
   ]
  },
  {
   "cell_type": "code",
   "execution_count": null,
   "metadata": {},
   "outputs": [],
   "source": [
    "len(cars)"
   ]
  },
  {
   "cell_type": "markdown",
   "metadata": {},
   "source": [
    "## Try It Yourself\n",
    "\n",
    "**4. Seeing the World**\n",
    "\n",
    "Think of at least five places in the world you’d like to visit.\n",
    "\n",
    "- Store the locations in a list. Make sure the list is not in alphabetical order.\n",
    "\n",
    "- Print your list in its original order. Don’t worry about printing the list neatly, just print it as a raw Python list.\n",
    "\n",
    "- Use sorted() to print your list in alphabetical order without modifying the actual list.\n",
    "\n",
    "- Use reverse() to change the order of your list.\n",
    "\n",
    "- Use sort() to change your list so it’s stored in reverse alphabetical order."
   ]
  }
 ],
 "metadata": {
  "kernelspec": {
   "display_name": "Python 3",
   "language": "python",
   "name": "python3"
  },
  "language_info": {
   "codemirror_mode": {
    "name": "ipython",
    "version": 3
   },
   "file_extension": ".py",
   "mimetype": "text/x-python",
   "name": "python",
   "nbconvert_exporter": "python",
   "pygments_lexer": "ipython3",
   "version": "3.6.5"
  }
 },
 "nbformat": 4,
 "nbformat_minor": 2
}
