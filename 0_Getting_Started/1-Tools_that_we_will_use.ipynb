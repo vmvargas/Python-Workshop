{
 "cells": [
  {
   "cell_type": "markdown",
   "metadata": {},
   "source": [
    "## Tools that we will use\n",
    "\n",
    "  \n",
    "- **Pip**\n",
    "    \n",
    "    Python's official package manager, and is most commonly used to install packages published on the Python Package Index (PyPI).\n",
    "    \n",
    "    Run:\n",
    "    ```bash\n",
    "        pip --version\n",
    "    ```\n",
    "    \n",
    "\n",
    "- **Conda**\n",
    "\n",
    "    Anaconda package manager that automates the process of installing, updating, and removing packages.\n",
    "\n",
    "    `pip` is a general-purpose manager for Python packages; `conda` is a language-agnostic cross-platform environment manager.\n",
    "    \n",
    "    Run:\n",
    "    ```bash\n",
    "        conda info\n",
    "        conda env list\n",
    "        where conda # this output should be in your PATH variable\n",
    "    ```\n",
    "    \n",
    "    \n",
    "    See *Conda_Cheatsheet.pdf* inside the Student_Resources for more useful commands.\n",
    "\n",
    "- **Anaconda**\n",
    "\n",
    "    Free and open source distribution that comes with a lot of tools right of the box, it comes with either Python or R, a package manager called conda, and a lot of other libraries and packages pre-installed, these packages are usually related to analytics and scientific and help to plot and compute large amounts of data.\n",
    "\n",
    "    Anaconda is an option that people prefer because it simplify issues related to installing different python version of python, creating different environments, privileges issues, etc.\n",
    "\n",
    "    If you are on Windows, use Anaconda Prompt instead of Windows Command Prompt.\n",
    "\n",
    "    Run\n",
    "    ```bash\n",
    "    where anaconda\n",
    "    ```\n",
    "    \n",
    "    \n",
    "- **Jupyter**\n",
    "\n",
    "    *Project Jupyter* was created from *iPython Notebooks* with the intention to be robust and language agnostic (Julia, and R notebooks).Designed for creating reproducible computational narratives.\n",
    "    \n",
    "    *JupyterLab* is an interactive development environment for working with notebooks, code and data. JupyterLab has full support for Jupyter notebooks. Additionally, JupyterLab enables you to use text editors, terminals, data file viewers, and other custom components side by side with notebooks in a tabbed work area.\n",
    "    \n",
    "- **Git**\n",
    "\n",
    "    To publish workshop’s sections (.ipynb files)\n",
    "    https://help.github.com/articles/working-with-jupyter-notebook-files-on-github/\n",
    "    \n",
    "- **Python**\n",
    "\n",
    "    Interpreted cross-platform high-level programming language for general-purpose programming.\n",
    "\n",
    "    Useful commands:\n",
    "\n",
    "    ```bash\n",
    "        where python # this output should be in your PATH variable\n",
    "        python hello_world.py #to run a script\n",
    "        python hello_human.py Victor \n",
    "    ```\n",
    "    \n",
    "\n",
    "## Tools that we will not be using\n",
    "\n",
    "- **Miniconda**\n",
    "\n",
    "    Another software distribution Miniconda is essentially an installer for an empty conda environment, containing only Conda and Python, so that you can install what you need from scratch.\n",
    "\n",
    "- **IPython**\n",
    "\n",
    "    Currently, IPython fulfill 2 roles: being the python backend to the jupyter notebook, (aka kernel) and an interactive python shell.\n",
    "    \n",
    "## To run a command on Jupyter Notebook:\n"
   ]
  },
  {
   "cell_type": "code",
   "execution_count": null,
   "metadata": {},
   "outputs": [],
   "source": [
    "%run hello_world.py"
   ]
  },
  {
   "cell_type": "code",
   "execution_count": null,
   "metadata": {},
   "outputs": [],
   "source": [
    "%run hello_human.py Victor"
   ]
  }
 ],
 "metadata": {
  "kernelspec": {
   "display_name": "Python 3",
   "language": "python",
   "name": "python3"
  },
  "language_info": {
   "codemirror_mode": {
    "name": "ipython",
    "version": 3
   },
   "file_extension": ".py",
   "mimetype": "text/x-python",
   "name": "python",
   "nbconvert_exporter": "python",
   "pygments_lexer": "ipython3",
   "version": "3.6.5"
  }
 },
 "nbformat": 4,
 "nbformat_minor": 2
}
