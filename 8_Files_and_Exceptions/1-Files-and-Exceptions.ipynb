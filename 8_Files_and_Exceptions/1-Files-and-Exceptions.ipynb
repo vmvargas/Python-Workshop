{
 "cells": [
  {
   "cell_type": "markdown",
   "metadata": {},
   "source": [
    "## Files and Exceptions\n",
    "\n",
    "### Making sure you are in the right Path\n",
    "\n",
    "Sometimes the directory where the script is being run differs from the current working directory."
   ]
  },
  {
   "cell_type": "code",
   "execution_count": null,
   "metadata": {},
   "outputs": [],
   "source": [
    "import os\n",
    "\n",
    "# prints the current working directory\n",
    "cwd = str(os.getcwd())\n",
    "print(\"cwd: \\n\", cwd)\n",
    "\n",
    "# On IPython Jupyter Notebook you can use the magic command %pwd to know the current working directory path\n",
    "print(\"\\n%pwd:\")\n",
    "%pwd"
   ]
  },
  {
   "cell_type": "markdown",
   "metadata": {},
   "source": [
    "#### To change your cwd"
   ]
  },
  {
   "cell_type": "code",
   "execution_count": null,
   "metadata": {},
   "outputs": [],
   "source": [
    "# On Jupyter notebook only\n",
    "# Windows\n",
    "%cd C:\\Users\\Victor\\Desktop\\Python-Workshop\\8_Files_and_Exceptions\n",
    "# Unix (OS X or Linux)\n",
    "%cd /home/Victor/Desktop/text_files\n",
    "\n",
    "# On any python script:\n",
    "os.chdir(cwd)"
   ]
  },
  {
   "cell_type": "markdown",
   "metadata": {},
   "source": [
    "### Reading from a file\n",
    "\n",
    "The `open()` function needs one argument: the name of the file you want to open. `open()` function returns an object representing the file.\n",
    "\n",
    "Python stores this object in `file_object` , which we’ll work with later in the program.\n",
    "\n",
    "The keyword `with` closes the file once access to it is no longer needed. \n",
    "\n",
    "Notice how we call `open()` in this program but not close() . You could open Files and Exceptions and close the file by calling `open()` and `close()`, but if a bug in your program prevents the `close()`  statement from being executed, the file may never close.\n",
    "\n",
    "The `read()` method read the entire contents of the file that can be stored as one long string.\n",
    "\n",
    "The `strip()` method removes, or strips, any whitespace characters from the right side of a string."
   ]
  },
  {
   "cell_type": "code",
   "execution_count": null,
   "metadata": {},
   "outputs": [],
   "source": [
    "filename = 'pi_digits.txt'\n",
    "with open('pi_digits.txt') as file_object:\n",
    "    contents = file_object.read()\n",
    "    print(contents.rstrip())\n",
    "    "
   ]
  },
  {
   "cell_type": "markdown",
   "metadata": {},
   "source": [
    "#### Reading Line by Line\n",
    "\n",
    "You can use a for  loop on the file object to examine each line from a file one at a time.\n",
    "\n",
    "There are two newline characters at the end of each line: one from the file and one from the print  statement. "
   ]
  },
  {
   "cell_type": "code",
   "execution_count": null,
   "metadata": {},
   "outputs": [],
   "source": [
    "filename = 'pi_digits.txt'\n",
    "with open(filename) as file_object:\n",
    "    for line in file_object:\n",
    "        print(line)"
   ]
  },
  {
   "cell_type": "markdown",
   "metadata": {},
   "source": [
    "#### Making a List of Lines from a File\n",
    "\n",
    "When you use with , the file object returned by open()  is only available inside the with  block that contains it.\n",
    "\n",
    "You can process parts of the file immediately and postpone some processing for later in the program.\n",
    "\n",
    "The `readlines()` method takes each line from the file and stores it in a list. \n"
   ]
  },
  {
   "cell_type": "code",
   "execution_count": null,
   "metadata": {},
   "outputs": [],
   "source": [
    "filename = 'pi_digits.txt'\n",
    "\n",
    "with open(filename) as file_object:\n",
    "    lines = file_object.readlines()\n",
    "\n",
    "for line in lines:\n",
    "    print(\"line:\", line.rstrip())"
   ]
  },
  {
   "cell_type": "markdown",
   "metadata": {},
   "source": [
    "#### Working with a File’s Contents\n",
    "\n",
    "Let's attempt to build a single string containing all the digits in the file with no whitespace in it.\n",
    "\n",
    "`pi_string` contains the whitespace that was on the left side of the digits in each line."
   ]
  },
  {
   "cell_type": "code",
   "execution_count": 4,
   "metadata": {},
   "outputs": [
    {
     "name": "stdout",
     "output_type": "stream",
     "text": [
      "3.1415926535  8979323846  2643383279\n",
      "36\n"
     ]
    }
   ],
   "source": [
    "filename = 'pi_digits.txt'\n",
    "\n",
    "with open(filename) as file_object:\n",
    "    lines = file_object.readlines()\n",
    "\n",
    "pi_string = ''\n",
    "for line in lines:\n",
    "    pi_string += line.rstrip()\n",
    "\n",
    "print(pi_string)\n",
    "print(len(pi_string))"
   ]
  },
  {
   "cell_type": "markdown",
   "metadata": {},
   "source": [
    "#### Large Files: One Million Digits\n",
    "\n",
    "`pi_million_digits.txt` contains pi to 1,000,000 decimal places instead of just 30.\n",
    "\n",
    "Note: When Python reads from a text file, it interprets all text in the file as a string. \n",
    "\n",
    "If you read in a number and want to work with that value in a numerical context, you’ll have to convert it to an integer using the `int()`  function or convert it to a float using the `float()` function."
   ]
  },
  {
   "cell_type": "code",
   "execution_count": 11,
   "metadata": {},
   "outputs": [
    {
     "name": "stdout",
     "output_type": "stream",
     "text": [
      "3.14159265358979323846264338327950288419716939937510...\n",
      "1000002\n"
     ]
    }
   ],
   "source": [
    "filename = 'pi_million_digits.txt'\n",
    "\n",
    "with open(filename) as file_object:\n",
    "    lines = file_object.readlines()\n",
    "\n",
    "pi_string = ''\n",
    "for line in lines:\n",
    "    pi_string += line.strip()\n",
    "\n",
    "print(pi_string[:52] + \"...\")\n",
    "print(len(pi_string))"
   ]
  },
  {
   "cell_type": "code",
   "execution_count": 12,
   "metadata": {},
   "outputs": [
    {
     "name": "stdout",
     "output_type": "stream",
     "text": [
      "Your birthday appears in the first million digits of pi!\n"
     ]
    }
   ],
   "source": [
    "#### Is Your Birthday Contained in Pi?\n",
    "\n",
    "filename = 'pi_million_digits.txt'\n",
    "\n",
    "with open(filename) as file_object:\n",
    "    lines = file_object.readlines()\n",
    "\n",
    "pi_string = ''\n",
    "for line in lines:\n",
    "    pi_string += line.rstrip()\n",
    "\n",
    "birthday = input(\"Enter your birthday, in the form mmddyy: \")\n",
    "if birthday in pi_string:\n",
    "    print(\"Your birthday appears in the first million digits of pi!\")\n",
    "else:\n",
    "    print(\"Your birthday does not appear in the first million digits of pi.\")"
   ]
  }
 ],
 "metadata": {
  "kernelspec": {
   "display_name": "Python 3",
   "language": "python",
   "name": "python3"
  },
  "language_info": {
   "codemirror_mode": {
    "name": "ipython",
    "version": 3
   },
   "file_extension": ".py",
   "mimetype": "text/x-python",
   "name": "python",
   "nbconvert_exporter": "python",
   "pygments_lexer": "ipython3",
   "version": "3.6.5"
  }
 },
 "nbformat": 4,
 "nbformat_minor": 2
}
