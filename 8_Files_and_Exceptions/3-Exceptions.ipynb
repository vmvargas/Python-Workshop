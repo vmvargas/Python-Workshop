{
 "cells": [
  {
   "cell_type": "markdown",
   "metadata": {},
   "source": [
    "## Exceptions\n",
    "\n",
    "Python uses special objects called exceptions to manage errors that arise during a program’s execution.\n",
    "\n",
    "Whenever an error occurs that makes Python unsure what to do next, it creates an exception object.\n",
    "\n",
    "If you write code that handles the exception, the program will continue running.\n",
    "\n",
    "If you don’t handle the exception, the program will halt and show a traceback, which includes a report of the exception that was raised.\n",
    "\n",
    "Exceptions are handled with try-except blocks.\n",
    "\n",
    "A try- except  block asks Python to do something, but it also tells Python what to do if an exception is raised.\n",
    "\n",
    "### Handling the ZeroDivisionError Exception\n",
    "\n",
    "We’ll tell Python what to do when this kind of exception occurs; that way, if it happens again, we’re prepared."
   ]
  },
  {
   "cell_type": "code",
   "execution_count": 4,
   "metadata": {},
   "outputs": [
    {
     "ename": "ZeroDivisionError",
     "evalue": "division by zero",
     "output_type": "error",
     "traceback": [
      "\u001b[1;31m---------------------------------------------------------------------------\u001b[0m",
      "\u001b[1;31mZeroDivisionError\u001b[0m                         Traceback (most recent call last)",
      "\u001b[1;32m<ipython-input-4-fad870a50e27>\u001b[0m in \u001b[0;36m<module>\u001b[1;34m()\u001b[0m\n\u001b[1;32m----> 1\u001b[1;33m \u001b[0mprint\u001b[0m\u001b[1;33m(\u001b[0m\u001b[1;36m5\u001b[0m\u001b[1;33m/\u001b[0m\u001b[1;36m0\u001b[0m\u001b[1;33m)\u001b[0m\u001b[1;33m\u001b[0m\u001b[0m\n\u001b[0m",
      "\u001b[1;31mZeroDivisionError\u001b[0m: division by zero"
     ]
    }
   ],
   "source": [
    "print(5/0)"
   ]
  },
  {
   "cell_type": "markdown",
   "metadata": {},
   "source": [
    "### Using try-except Blocks\n",
    "\n",
    "If the code in a try block works, Python skips over the except block.\n",
    "\n",
    "If the code in the try block causes an error, Python looks for an except block whose error matches the one that was raised and runs the code in that block."
   ]
  },
  {
   "cell_type": "code",
   "execution_count": 9,
   "metadata": {},
   "outputs": [
    {
     "name": "stdout",
     "output_type": "stream",
     "text": [
      "You can't divide by zero!\n"
     ]
    }
   ],
   "source": [
    "try: \n",
    "    print(5/0) \n",
    "except ZeroDivisionError:\n",
    "    print(\"You can't divide by zero!\")"
   ]
  },
  {
   "cell_type": "markdown",
   "metadata": {},
   "source": [
    "### Using Exceptions to Prevent Crashes\n",
    "\n",
    "It’s bad that a program crashed, but it’s even worse to let users see the traceback.\n",
    "\n",
    "Any code that depends on the try  block executing successfully goes in the else  block."
   ]
  },
  {
   "cell_type": "code",
   "execution_count": 13,
   "metadata": {},
   "outputs": [
    {
     "name": "stdout",
     "output_type": "stream",
     "text": [
      "Give me two numbers, and I'll divide them.\n",
      "Enter 'q' to quit.\n"
     ]
    }
   ],
   "source": [
    "print(\"Give me two numbers, and I'll divide them.\")\n",
    "print(\"Enter 'q' to quit.\")\n",
    "\n",
    "while True:\n",
    "    first_number = input(\"\\nFirst number: \")\n",
    "    if first_number == 'q':\n",
    "        break\n",
    "    second_number = input(\"Second number: \")\n",
    "    try:\n",
    "        answer = int(first_number) / int(second_number)\n",
    "    except ZeroDivisionError:\n",
    "        print(\"You can't divide by 0!\")\n",
    "    else:\n",
    "        print(answer)"
   ]
  },
  {
   "cell_type": "markdown",
   "metadata": {},
   "source": [
    "### Handling the FileNotFoundError Exception"
   ]
  },
  {
   "cell_type": "code",
   "execution_count": 23,
   "metadata": {},
   "outputs": [
    {
     "name": "stdout",
     "output_type": "stream",
     "text": [
      "Sorry, the file alize.txt does not exist.\n"
     ]
    }
   ],
   "source": [
    "filename = 'alize.txt'\n",
    "\n",
    "try:\n",
    "    with open(filename) as f_obj:\n",
    "        contents = f_obj.read()\n",
    "except FileNotFoundError:\n",
    "    msg = \"Sorry, the file \" + filename + \" does not exist.\"\n",
    "    print(msg)\n"
   ]
  },
  {
   "cell_type": "markdown",
   "metadata": {},
   "source": [
    "### Analyzing Text from Multiple Files\n",
    "\n",
    "Let's try to count the number of words in the text of *Alice in Wonderland*\n",
    "\n",
    "`split()` can build a list of words from a string.\n",
    "\n",
    "The texts used in this section come from Project Gutenberg ( http://gutenberg.org/ )"
   ]
  },
  {
   "cell_type": "code",
   "execution_count": 33,
   "metadata": {},
   "outputs": [
    {
     "name": "stdout",
     "output_type": "stream",
     "text": [
      "The file alice.txt has about 29461 words.\n",
      "Sorry, the file siddartha.txt does not exist.\n",
      "The file moby_dick.txt has about 215136 words.\n",
      "The file little_women.txt has about 189079 words.\n"
     ]
    }
   ],
   "source": [
    "def count_words(filename):\n",
    "    \"\"\"Count the approximate number of words in a file.\"\"\"\n",
    "    try:\n",
    "        with open(filename, encoding='utf-8') as f_obj:\n",
    "            contents = f_obj.read() \n",
    "    except FileNotFoundError:\n",
    "        msg = \"Sorry, the file \" + filename + \" does not exist.\"\n",
    "        print(msg)\n",
    "    else:\n",
    "        # Count approximate number of words in the file.\n",
    "        words = contents.split()\n",
    "        num_words = len(words)\n",
    "        print(\"The file \" + filename + \" has about \" + str(num_words) + \" words.\")\n",
    "\n",
    "filenames = ['alice.txt', 'siddhartha.txt', 'moby_dick.txt', 'little_women.txt']\n",
    "for filename in filenames:\n",
    "    count_words(filename)"
   ]
  },
  {
   "cell_type": "markdown",
   "metadata": {},
   "source": [
    "### Failing Silently\n",
    "\n",
    "To make a program fail silently, you write a try block as usual, but you explicitly tell Python to do nothing in the except block.\n",
    "\n",
    "Python has a `pass` statement that tells it to do nothing in a block.\n",
    "\n",
    "The pass  statement also acts as a placeholder.\n",
    "\n",
    "It’s a reminder that you’re choosing to do nothing at a specific point in your program’s execution and that you might want to do something there later.\n",
    "\n",
    "For example, in this program we might decide to write any missing filenames to a file called `missing_files.txt`.\n",
    "\n",
    "Our users wouldn’t see this file, but we’d be able to read the file and deal with any missing texts.\n",
    "\n",
    "### Deciding Which Errors to Report\n",
    "\n",
    "If users know which texts are supposed to be analyzed, they might appreciate a message informing them why some texts were not analyzed.\n",
    "\n",
    "If users expect to see some results but don’t know which books are supposed to be analyzed, they might not need to know that some texts were unavailable.\n",
    "\n",
    "Giving users information they aren’t looking for can decrease the usability of your program.\n",
    "\n",
    "Every time your program depends on something external, such as user input, the existence of a file, or the availability of a network connection, there is a possibility of an exception being raised. \n",
    " "
   ]
  },
  {
   "cell_type": "code",
   "execution_count": null,
   "metadata": {},
   "outputs": [],
   "source": []
  }
 ],
 "metadata": {
  "kernelspec": {
   "display_name": "Python 3",
   "language": "python",
   "name": "python3"
  },
  "language_info": {
   "codemirror_mode": {
    "name": "ipython",
    "version": 3
   },
   "file_extension": ".py",
   "mimetype": "text/x-python",
   "name": "python",
   "nbconvert_exporter": "python",
   "pygments_lexer": "ipython3",
   "version": "3.6.5"
  }
 },
 "nbformat": 4,
 "nbformat_minor": 2
}
